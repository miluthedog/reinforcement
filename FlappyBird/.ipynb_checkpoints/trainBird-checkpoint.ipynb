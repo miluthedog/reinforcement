{
 "cells": [
  {
   "cell_type": "code",
   "execution_count": null,
   "metadata": {},
   "outputs": [],
   "source": [
    "# enviroment: flappy bird.\n",
    "\n",
    "# model: reinforcement learning A2C. 4 states (normalized), 2 actions\n",
    "# actor: 4 input | 64 relu | 64 relu | softmax. critic: 4 input | 64 relu | 64 relu | linear\n",
    "# params: discount 0.999, optimizer adam-learning rate 0.001, no e-greedy\n",
    "# reward: -5 die, +0.05 survive, +5 pass pipe\n",
    "\n",
    "# result: 2 points mva at ep1000, peak 10 points at ep1400"
   ]
  },
  {
   "cell_type": "code",
   "execution_count": null,
   "metadata": {},
   "outputs": [],
   "source": [
    "from IPython import display\n",
    "import matplotlib.pyplot as plt\n",
    "import numpy as np\n",
    "import tensorflow as tf\n",
    "import time\n",
    "from envBird import FlappyBird\n",
    "from modelBird import A2Cmodel"
   ]
  },
  {
   "cell_type": "code",
   "execution_count": null,
   "metadata": {},
   "outputs": [],
   "source": [
    "env = FlappyBird()\n",
    "scores, rewards = [], []\n",
    "\n",
    "model = A2Cmodel(4, 2, 0.999)\n",
    "model.actor = tf.keras.models.load_model('actor.keras')\n",
    "model.critic = tf.keras.models.load_model('critic.keras')\n",
    "\n",
    "for episode in range(2000):\n",
    "    try:\n",
    "        model.training_loop(env, 10000)\n",
    "        scores.append(model.score)\n",
    "        rewards.append(model.reward)\n",
    "        display.clear_output(wait=True)\n",
    "        print(f\"Episode {episode}:\")\n",
    "        print(f\"current score: {model.score:.2f}, highest score: {max(scores):.2f}, avg score: {np.mean(scores):.2f}\")\n",
    "        print(f\"current reward: {model.reward:.2f}, highest reward: {max(rewards):.2f}, avg reward: {np.mean(rewards):.2f}\")\n",
    "    except KeyboardInterrupt:\n",
    "        time.sleep(5)"
   ]
  },
  {
   "cell_type": "code",
   "execution_count": null,
   "metadata": {},
   "outputs": [],
   "source": [
    "# EMA\n",
    "previous_reward = 0\n",
    "EMA = []\n",
    "factor = 2 / (1+50)\n",
    "for reward in rewards:\n",
    "    if previous_reward != 0:\n",
    "        new_reward = previous_reward * (1 - factor) + reward * factor\n",
    "    else:\n",
    "        new_reward = reward\n",
    "    previous_reward = new_reward\n",
    "    \n",
    "    EMA.append(new_reward)\n",
    "\n",
    "plt.plot(list(range(len(rewards))), rewards, alpha=0.5, label=\"Reward\")\n",
    "plt.plot(list(range(len(EMA))), EMA, label=\"Exponential Moving Average\")\n",
    "plt.legend()\n",
    "plt.show()"
   ]
  },
  {
   "cell_type": "code",
   "execution_count": null,
   "metadata": {},
   "outputs": [],
   "source": [
    "model.actor.save('actor.keras')\n",
    "model.critic.save('critic.keras')"
   ]
  }
 ],
 "metadata": {
  "kernelspec": {
   "display_name": "Python 3 (ipykernel)",
   "language": "python",
   "name": "python3"
  },
  "language_info": {
   "codemirror_mode": {
    "name": "ipython",
    "version": 3
   },
   "file_extension": ".py",
   "mimetype": "text/x-python",
   "name": "python",
   "nbconvert_exporter": "python",
   "pygments_lexer": "ipython3",
   "version": "3.12.4"
  }
 },
 "nbformat": 4,
 "nbformat_minor": 4
}
